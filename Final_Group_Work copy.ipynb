{
 "cells": [
  {
   "cell_type": "code",
   "execution_count": null,
   "id": "853f6901-442e-4e74-9e14-5d81c329438d",
   "metadata": {},
   "outputs": [],
   "source": [
    "## Initial imports\n",
    "import pandas as pd\n",
    "from pathlib import Path\n",
    "import hvplot.pandas\n",
    "import os\n",
    "import seaborn as sns\n",
    "import pygwalker as pyg\n",
    "import numpy as np"
   ]
  },
  {
   "cell_type": "markdown",
   "id": "93b51855-9c85-4543-a034-b527e6728f82",
   "metadata": {},
   "source": [
    "## Data Import for Anaysis\n",
    "\n",
    "Read csv files from different sources into  Dataframes and Clean Data"
   ]
  },
  {
   "cell_type": "code",
   "execution_count": null,
   "id": "6733b1f0-f13f-4796-baea-f280e5e78041",
   "metadata": {},
   "outputs": [],
   "source": [
    "#Read the US Dollar Index Historical Data, Group into yearly data, rename columns and clean Data.\n",
    "us_dollar_df = pd.read_csv('./Resources/US_Dollar_Index_Historical_Data_1971-2023.csv')\n",
    "us_dollar_df['Date'] = pd.DatetimeIndex(us_dollar_df['Date']).year\n",
    "us_dollar_df = us_dollar_df.rename(columns = {\"Date\":\"Year\",\"Price\":\"Dollar Price\"})\n",
    "us_dollar_df.head()"
   ]
  },
  {
   "cell_type": "code",
   "execution_count": null,
   "id": "1d20e54f-9e4c-4bfe-ac1e-85ca2ddd31b0",
   "metadata": {},
   "outputs": [],
   "source": [
    "us_dollar_df = us_dollar_df.groupby(\"Year\").mean().round(2)\n",
    "us_dollar_df.head()"
   ]
  },
  {
   "cell_type": "code",
   "execution_count": null,
   "id": "3d23f669-024e-4a55-b866-24b9a11ab089",
   "metadata": {},
   "outputs": [],
   "source": [
    "us_dollar_df = us_dollar_df[['Dollar Price']]\n",
    "us_dollar_df.head()"
   ]
  },
  {
   "cell_type": "code",
   "execution_count": null,
   "id": "51778896-2ffe-4e2b-9508-500057badcc4",
   "metadata": {},
   "outputs": [],
   "source": [
    "#Read the US Globalization Data, Set Year as index and clean Data.\n",
    "us_globalization_df = pd.read_csv('./Resources/US_Globalization_1971-2021.csv')\n",
    "us_globalization_df = us_globalization_df.set_index('Year').round(2)\n",
    "us_globalization_df.head()"
   ]
  },
  {
   "cell_type": "code",
   "execution_count": null,
   "id": "b86f069a-793e-4c6a-94fd-0a06f0bd1323",
   "metadata": {},
   "outputs": [],
   "source": [
    "#Read the US National Debt Data, Set Year as index and clean Data.\n",
    "us_national_df = pd.read_csv('./Resources/US_National_Debt_by_the_Year_1971-2023.csv', encoding='unicode_escape')\n",
    "us_national_df = us_national_df.set_index('Year')\n",
    "us_national_df['DEBT'] = us_national_df['DEBT'].str.replace(\"$\", \"\")\n",
    "us_national_df['DEBT'] = us_national_df['DEBT'].str.replace(\",\", \"\")\n",
    "us_national_df['DEBT'] = us_national_df['DEBT'].astype(\"float\")\n",
    "us_national_df = us_national_df[['DEBT']]\n",
    "us_national_df.head()"
   ]
  },
  {
   "cell_type": "code",
   "execution_count": null,
   "id": "9bc9586f-9790-48ff-8335-edbcc1cb71c2",
   "metadata": {},
   "outputs": [],
   "source": [
    "#Read the US Oil Prices 1971 Data, Set Year as index and clean Data.\n",
    "us_oil_71_df = pd.read_csv('./Resources/US_Oil_Prices_1971-2022.csv', encoding='unicode_escape')\n",
    "us_oil_71_df = us_oil_71_df.set_index(\"Year\").rename(columns = {\"Average\":\"Avg Oil Prices\"})\n",
    "us_oil_71_df['Avg Oil Prices'] = us_oil_71_df['Avg Oil Prices'].str.replace(\"$\", \"\")\n",
    "us_oil_71_df['Avg Oil Prices'] = us_oil_71_df['Avg Oil Prices'].astype(\"float\")\n",
    "us_oil_71_df = us_oil_71_df[['Avg Oil Prices']]\n",
    "us_oil_71_df.head()"
   ]
  },
  {
   "cell_type": "code",
   "execution_count": null,
   "id": "d707b33c-8317-41df-bd24-90184e30c64c",
   "metadata": {},
   "outputs": [],
   "source": [
    "#Read the US ResearchandDev Data, Rename column, Set Year as index and clean Data.\n",
    "us_r_and_d_df = pd.read_csv('./Resources/US_ResearchandDev_1971-2023.csv')\n",
    "us_r_and_d_df['Percentage of Fiscal Budget for R&D'] = us_r_and_d_df['Percentage of Fiscal Budget for R&D'].str.replace(\"%\",\"\")\n",
    "us_r_and_d_df['Percentage of Fiscal Budget for R&D'] = pd.to_numeric(us_r_and_d_df['Percentage of Fiscal Budget for R&D'])\n",
    "us_r_and_d_df= us_r_and_d_df.rename(columns = {\"Fiscal Year\":\"Year\"}).set_index(\"Year\")\n",
    "us_r_and_d_df= us_r_and_d_df[['Percentage of Fiscal Budget for R&D']]\n",
    "us_r_and_d_df.head()"
   ]
  },
  {
   "cell_type": "code",
   "execution_count": null,
   "id": "06840041-ede4-4187-9a84-8615e2f5aa83",
   "metadata": {},
   "outputs": [],
   "source": [
    "data_df =  pd.concat([us_dollar_df, us_national_df, us_oil_71_df, us_globalization_df, us_r_and_d_df], axis='columns', join='inner')\n",
    "data_df.head()"
   ]
  },
  {
   "cell_type": "markdown",
   "id": "1dba14f7-e689-424a-9b50-c3e3bf71f484",
   "metadata": {},
   "source": [
    "## Performance Analysis - 1st Iteration\n",
    "\n",
    "Conduct performance analysis to deduce the correlation between a single Variable (Oil Price) and its impact to the US dollar index"
   ]
  },
  {
   "cell_type": "code",
   "execution_count": null,
   "id": "da8b7f37-159b-42ff-a6ef-4346928ec0f6",
   "metadata": {},
   "outputs": [],
   "source": [
    "# Join the US Dollar index and the Oil Prices dataframe\n",
    "combined_data_df = pd.concat(\n",
    "    [us_dollar_df, us_oil_71_df], axis='columns', join='inner'\n",
    ")\n",
    "combined_data_df.head()"
   ]
  },
  {
   "cell_type": "code",
   "execution_count": null,
   "id": "c465032b-2d38-4293-b55e-1bc8f2f6ce10",
   "metadata": {},
   "outputs": [],
   "source": [
    "combined_data_df.hvplot(title= \"Dollar Price Index Vs. Average Oil Price\")"
   ]
  },
  {
   "cell_type": "code",
   "execution_count": null,
   "id": "d825c39e-055c-4af4-b754-9d5cc98dc04f",
   "metadata": {},
   "outputs": [],
   "source": [
    "# Calcuate the percentatge difference YOY for the US Dollar Index and Avg Oil Prices\n",
    "diff_yoy_combined_data_df = combined_data_df.pct_change().dropna()\n",
    "diff_yoy_combined_data_df.head()"
   ]
  },
  {
   "cell_type": "code",
   "execution_count": null,
   "id": "3e047b94-7e49-4c75-8a3a-aa3b3f5e8816",
   "metadata": {},
   "outputs": [],
   "source": [
    "diff_yoy_combined_data_df.plot(kind=\"bar\", title= \"Diff YoY between Oil Price and Dollar Index\")"
   ]
  },
  {
   "cell_type": "code",
   "execution_count": null,
   "id": "ec93d7a3-b323-4590-9c95-b526e586858a",
   "metadata": {},
   "outputs": [],
   "source": [
    "# Calculate the correlation between US Index and Oil Price\n",
    "corr_combined_data_df = diff_yoy_combined_data_df.corr()\n",
    "corr_combined_data_df"
   ]
  },
  {
   "cell_type": "code",
   "execution_count": null,
   "id": "f14b7053-cd58-4f63-b995-1e3bc74fb20e",
   "metadata": {},
   "outputs": [],
   "source": [
    "# Display the correlation matrix\n",
    "sns.heatmap(corr_combined_data_df, vmin =-1, vmax = 1)"
   ]
  },
  {
   "cell_type": "code",
   "execution_count": null,
   "id": "26f7453e-1689-4b79-9c49-ffe49eded52d",
   "metadata": {},
   "outputs": [],
   "source": [
    "# percentage change of all factors\n",
    "pct_change_data_df = data_df.pct_change()"
   ]
  },
  {
   "cell_type": "code",
   "execution_count": null,
   "id": "8ea5c80e-cdee-4be4-93ed-3e85e991c4be",
   "metadata": {},
   "outputs": [],
   "source": [
    "correlation = pct_change_data_df.corr()\n",
    "sns.heatmap(correlation, vmin =-1, vmax = 1, annot = True, cmap=\"BuPu\")"
   ]
  },
  {
   "cell_type": "markdown",
   "id": "8048b746-5acd-4aa1-8edb-be0ddb1af5b8",
   "metadata": {},
   "source": [
    "## Correlation Across Different Variables"
   ]
  },
  {
   "cell_type": "code",
   "execution_count": null,
   "id": "cca61cfd-bd0b-4039-9d6f-3be0f3a02712",
   "metadata": {},
   "outputs": [],
   "source": [
    "correlation"
   ]
  },
  {
   "cell_type": "code",
   "execution_count": null,
   "id": "ea334689-951a-4daf-bae5-4691ae8780be",
   "metadata": {},
   "outputs": [],
   "source": [
    "pyg.walk(data_df)"
   ]
  },
  {
   "cell_type": "code",
   "execution_count": null,
   "id": "83ddf400-8743-4bfd-903c-18d3f19d2e0c",
   "metadata": {},
   "outputs": [],
   "source": [
    "# Dollar Price\t1.000000\t-0.113371\t-0.095077\t-0.328763\t-0.166765\n",
    "dollar_vs_factor_correlation_df = pd.DataFrame({'factors' : ['DEBT', 'Avg Oil Prices','Trade (% of GDP)','Percentage of Fiscal Budget for R&D'], 'correlation' : [-0.113371,-0.095077, -0.328763,-0.166765]})\n",
    "dollar_vs_factor_correlation_df"
   ]
  },
  {
   "cell_type": "code",
   "execution_count": null,
   "id": "8999a63e-fcfe-47fe-b36c-e0bb7389ae3a",
   "metadata": {},
   "outputs": [],
   "source": [
    "pyg.walk(diff_yoy_combined_data_df)\n",
    "\n"
   ]
  },
  {
   "cell_type": "code",
   "execution_count": null,
   "id": "9f2b8d62-5e96-46bd-85e2-e2267c34cf7c",
   "metadata": {},
   "outputs": [],
   "source": [
    "## Yearly Monte Carlo to Reduce Noise in Monte Carlo Simulation"
   ]
  },
  {
   "cell_type": "code",
   "execution_count": null,
   "id": "3827cc6d-117e-4c9d-97bb-5744b818e948",
   "metadata": {},
   "outputs": [],
   "source": [
    "# % change in yearly USD\n",
    "yearly_pct_change_usd = us_dollar_df['Dollar Price'].pct_change().fillna(0)\n",
    "yearly_pct_change_usd"
   ]
  },
  {
   "cell_type": "code",
   "execution_count": null,
   "id": "edf093ce-271d-41ef-9078-0432849d0e6d",
   "metadata": {},
   "outputs": [],
   "source": [
    "# The Monte Carlo simulation depicts a probability distribution of random outcomes of the USD valuation across the 1971-2023 period on top of the actual distribution of the % change of the USD\n",
    "# x-axis = number of years during the period 1971-2023\n",
    "# y-axis = %change movement of the USD\n",
    "montecarlo2 = yearly_pct_change_usd.montecarlo(sims=30, bust=-1, goal=1)\n",
    "montecarlo2.plot(title=\"USD Monte Carlo Simulation based on Yearly Data\")"
   ]
  },
  {
   "cell_type": "code",
   "execution_count": null,
   "id": "31b8ba8d-0cd2-444e-adaa-668d191c7000",
   "metadata": {},
   "outputs": [],
   "source": [
    "# summary statistics\n",
    "print(montecarlo2.stats)"
   ]
  },
  {
   "cell_type": "markdown",
   "id": "ef8e921f-324f-4fbf-baf9-442fc343d04a",
   "metadata": {},
   "source": [
    "## Monthly Monte Carlo Simulation"
   ]
  },
  {
   "cell_type": "code",
   "execution_count": null,
   "id": "686f4a97-7265-4c81-9c56-9e7cc3bdc806",
   "metadata": {},
   "outputs": [],
   "source": [
    "#Using the monthly data from the US dollar index data frame to get a more precise analysis\n",
    "us_dollar_df = pd.read_csv('./Resources/US_Dollar_Index_Historical_Data_1971-2023.csv')\n",
    "us_dollar_df['Date'] = pd.DatetimeIndex(us_dollar_df['Date'])\n",
    "us_dollar_df = us_dollar_df.rename(columns = {\"Price\":\"Dollar Price\"})\n",
    "us_dollar_df.head()"
   ]
  },
  {
   "cell_type": "code",
   "execution_count": null,
   "id": "e876a6f7-0e66-44df-b862-8b252bf310e4",
   "metadata": {},
   "outputs": [],
   "source": [
    "monhtly_us = pd.read_csv('./Resources/US_Dollar_Index_Historical_Data_1971-2023.csv')\n",
    "monhtly_us['Date'] = pd.DatetimeIndex(us_dollar_df['Date'])\n",
    "monhtly_us"
   ]
  },
  {
   "cell_type": "code",
   "execution_count": null,
   "id": "31dfacb6-d7e5-4536-815a-0f32f44af36f",
   "metadata": {},
   "outputs": [],
   "source": [
    "# monthly % change USD\n",
    "pct_change_usd = monhtly_us['Price'].pct_change().fillna(0)\n",
    "pct_change_usd\n",
    "\n"
   ]
  },
  {
   "cell_type": "code",
   "execution_count": null,
   "id": "cfc6ce9f-540d-4621-a679-4bd22d793c6c",
   "metadata": {},
   "outputs": [],
   "source": [
    "import pandas_montecarlo"
   ]
  },
  {
   "cell_type": "code",
   "execution_count": null,
   "id": "b861160d-e64e-4fb6-bd5e-cd6ed8128926",
   "metadata": {},
   "outputs": [],
   "source": [
    "# x-axis = number of months during the period 1971-2023\n",
    "#y-axis = %change movement of the USD\n",
    "montecarlo = pct_change_usd.montecarlo(sims=30, bust=-1, goal=1)\n",
    "montecarlo.plot(title=\"USD Monte Carlo Simulation based on Monthly Data\")"
   ]
  },
  {
   "cell_type": "code",
   "execution_count": null,
   "id": "06cb540d-215a-4aa3-9e2e-fc7a0ec50210",
   "metadata": {},
   "outputs": [],
   "source": [
    "# summary statistics\n",
    "print(montecarlo.stats)\n",
    "\n"
   ]
  },
  {
   "cell_type": "code",
   "execution_count": null,
   "id": "a914c7cd-2a67-4922-b18e-e0c3b5748c8a",
   "metadata": {},
   "outputs": [],
   "source": [
    "print(montecarlo.maxdd)\n",
    "\n"
   ]
  },
  {
   "cell_type": "markdown",
   "id": "b98a9534-500e-46b3-bd46-2586f3a30733",
   "metadata": {},
   "source": [
    "Analysis\n",
    "* 2 trends are depicted on the Monte Carlo:\n",
    "1. Long-Term Trend: Increasing Value of the USD over the 50y period.\n",
    "Looking at the Monthly Monte Carlo, overall, over the last 50 years, the USD has been increasing in value\n",
    "2. Short-Term Cyclical Trend: 15 years cycles of expansion, peak, and contraction.\n",
    "This trend is apparent in the yearly Monte Carlo (1st cycle: y10-y25, 2nd cycle: y25-y40, 3rd cycle: y40-..?)\n",
    "Conclusion/Prediction: Currently, we are about 10 years into the USD cycle and reaching a peak. As a result, based on the observed pattern, we can expect the USD to enter into a contraction phase.¶Meaning we expect the USD to decrease in value, which confirms our hypothesis."
   ]
  },
  {
   "cell_type": "markdown",
   "id": "7fdbe259-cc61-41be-9e0e-a83a9af626f2",
   "metadata": {},
   "source": [
    "## Probability Distribution of the USD"
   ]
  },
  {
   "cell_type": "code",
   "execution_count": null,
   "id": "db683c99-1c37-4834-b659-b595cdd722f3",
   "metadata": {},
   "outputs": [],
   "source": [
    "pct_change_usd.hist()"
   ]
  },
  {
   "cell_type": "markdown",
   "id": "9ab54aa2-9293-41c8-89c4-7b511a91108d",
   "metadata": {},
   "source": [
    " ## Portfolio Analysis"
   ]
  },
  {
   "cell_type": "code",
   "execution_count": null,
   "id": "e50094a4-0917-4108-9d27-fd158a172fc7",
   "metadata": {},
   "outputs": [],
   "source": [
    "# import GLD csv\n",
    "gold_df = pd.read_csv('./Resources/GLD.csv', index_col = \"Date\", parse_dates = True, infer_datetime_format = True)\n",
    "gold_df"
   ]
  },
  {
   "cell_type": "code",
   "execution_count": null,
   "id": "a0934eae-976a-44d4-bda8-e531e2b02b00",
   "metadata": {},
   "outputs": [],
   "source": [
    "#Clean Gold Data\n",
    "gold_df = gold_df.drop('Open', axis='columns')\n",
    "gold_df = gold_df.drop('High', axis='columns')\n",
    "gold_df = gold_df.drop('Low', axis='columns')\n",
    "gold_df = gold_df.drop('Adj Close', axis='columns')\n",
    "gold_df = gold_df.drop('Volume', axis='columns')\n",
    "gold_df.rename(columns = {\"Close\" : \"Gold Close\"}, inplace = True)\n",
    "gold_df"
   ]
  },
  {
   "cell_type": "code",
   "execution_count": null,
   "id": "914bdcad-e453-4e33-bd28-18611743d066",
   "metadata": {},
   "outputs": [],
   "source": [
    "# Calculate Gold Percent Change and Drop NAs\n",
    "gold_df_change = gold_df.pct_change()\n",
    "gold_df_change = gold_df_change.dropna()\n",
    "gold_df_change.rename(columns = {\"Gold Close\" : \"Gold Percent Change\"}, inplace = True)\n",
    "gold_df_change"
   ]
  },
  {
   "cell_type": "code",
   "execution_count": null,
   "id": "69629404-1fa4-4ce0-820e-7e63de6e6e92",
   "metadata": {},
   "outputs": [],
   "source": [
    "# import CVGI csv\n",
    "cvgi_df = pd.read_csv('./Resources/CVGI.csv', index_col = \"Date\", parse_dates = True, infer_datetime_format = True)\n",
    "cvgi_df"
   ]
  },
  {
   "cell_type": "code",
   "execution_count": null,
   "id": "12b57dc4-c06b-4080-a94b-b027845c1f1e",
   "metadata": {},
   "outputs": [],
   "source": [
    "#Clean CVIG Data\n",
    "cvgi_df = cvgi_df.drop('Open', axis='columns')\n",
    "cvgi_df = cvgi_df.drop('High', axis='columns')\n",
    "cvgi_df = cvgi_df.drop('Low', axis='columns')\n",
    "cvgi_df = cvgi_df.drop('Adj Close', axis='columns')\n",
    "cvgi_df = cvgi_df.drop('Volume', axis='columns')\n",
    "cvgi_df.rename(columns = {\"Close\" : \"CVGI Close\"}, inplace = True)\n",
    "cvgi_df"
   ]
  },
  {
   "cell_type": "code",
   "execution_count": null,
   "id": "3d9d74e4-8088-4f8a-9fc2-226da7bc3bc0",
   "metadata": {},
   "outputs": [],
   "source": [
    "# Calculate CVIG Percent Change and Drop NAs\n",
    "CVIG_df_change = cvgi_df.pct_change()\n",
    "CVIG_df_change = cvgi_df.dropna()\n",
    "CVIG_df_change"
   ]
  },
  {
   "cell_type": "code",
   "execution_count": null,
   "id": "ab0c941d-ecde-425d-a6b1-7ba66af5b2a0",
   "metadata": {},
   "outputs": [],
   "source": [
    "CVIG_df_change.rename(columns = {\"CVIG Close\" : \"CVIG Percent Change\"}, inplace = True)\n",
    "CVIG_df_change"
   ]
  },
  {
   "cell_type": "code",
   "execution_count": null,
   "id": "4461c3b2-3019-4d81-94f1-63d822e7e3fc",
   "metadata": {},
   "outputs": [],
   "source": [
    "# import CVRX csv\n",
    "cvrx_df = pd.read_csv('./Resources/CVRX.csv',index_col = \"Date\", parse_dates = True, infer_datetime_format = True)\n",
    "cvrx_df"
   ]
  },
  {
   "cell_type": "code",
   "execution_count": null,
   "id": "a0a9089f-400a-4eae-ac05-86e3990cf9c5",
   "metadata": {},
   "outputs": [],
   "source": [
    "#Clean CVRX Data\n",
    "cvrx_df = cvrx_df.drop('Open', axis='columns')\n",
    "cvrx_df = cvrx_df.drop('High', axis='columns')\n",
    "cvrx_df = cvrx_df.drop('Low', axis='columns')\n",
    "cvrx_df = cvrx_df.drop('Adj Close', axis='columns')\n",
    "cvrx_df = cvrx_df.drop('Volume', axis='columns')\n",
    "cvrx_df.rename(columns = {\"Close\" : \"CVRX Close\"}, inplace = True)\n",
    "cvrx_df"
   ]
  },
  {
   "cell_type": "code",
   "execution_count": null,
   "id": "ecb5dfb3-b37c-4eb0-8a1b-e045d9309fd7",
   "metadata": {},
   "outputs": [],
   "source": [
    "# Calculate CVXR Percent Change and Drop NAs\n",
    "CVXR_df_change = cvrx_df.pct_change()\n",
    "CVXR_df_change = cvrx_df.dropna()\n",
    "CVXR_df_change.rename(columns = {\"CVXR Close\" : \"CVXR Percent Change\"}, inplace = True)\n",
    "CVXR_df_change"
   ]
  },
  {
   "cell_type": "code",
   "execution_count": null,
   "id": "4254580b-df68-4aee-b2fb-b00105971410",
   "metadata": {},
   "outputs": [],
   "source": [
    "# import LIDR csv\n",
    "lidr_df = pd.read_csv('./Resources/LIDR.csv', index_col = \"Date\", parse_dates = True, infer_datetime_format = True)\n",
    "lidr_df"
   ]
  },
  {
   "cell_type": "code",
   "execution_count": null,
   "id": "a8ebd7a7-cd3b-4458-9112-c58e97aa756f",
   "metadata": {},
   "outputs": [],
   "source": [
    "#Clean LIDR Data\n",
    "lidr_df = lidr_df.drop('Open', axis='columns')\n",
    "lidr_df = lidr_df.drop('High', axis='columns')\n",
    "lidr_df = lidr_df.drop('Low', axis='columns')\n",
    "lidr_df = lidr_df.drop('Adj Close', axis='columns')\n",
    "lidr_df = lidr_df.drop('Volume', axis='columns')\n",
    "lidr_df.rename(columns = {\"Close\" : \"LIDR Close\"}, inplace = True)\n",
    "lidr_df"
   ]
  },
  {
   "cell_type": "code",
   "execution_count": null,
   "id": "75c037a7-6598-4950-a614-8df253e35400",
   "metadata": {},
   "outputs": [],
   "source": [
    "# Calculate LIDR Percent Change and Drop NAs\n",
    "lidr_df_change = lidr_df.pct_change()\n",
    "lidr_df_change = lidr_df.dropna()\n",
    "lidr_df_change.rename(columns = {\"LIDR Close\" : \"LIDR Percent Change\"}, inplace = True)\n",
    "lidr_df_change"
   ]
  },
  {
   "cell_type": "code",
   "execution_count": null,
   "id": "5ca43eec-8e2a-46b0-adca-cdcb27692f2f",
   "metadata": {},
   "outputs": [],
   "source": [
    "# import APEN csv\n",
    "apen_df = pd.read_csv('./Resources/APENX.csv', index_col = \"Date\", parse_dates = True, infer_datetime_format = True)\n",
    "apen_df"
   ]
  },
  {
   "cell_type": "code",
   "execution_count": null,
   "id": "315800f9-60f7-43a3-9017-b57edccf4d84",
   "metadata": {},
   "outputs": [],
   "source": [
    "#Clean APEN Data\n",
    "apen_df = apen_df.drop('Open', axis='columns')\n",
    "apen_df = apen_df.drop('High', axis='columns')\n",
    "apen_df = apen_df.drop('Low', axis='columns')\n",
    "apen_df = apen_df.drop('Adj Close', axis='columns')\n",
    "apen_df = apen_df.drop('Volume', axis='columns')\n",
    "apen_df.rename(columns = {\"Close\" : \"APEN Close\"}, inplace = True)\n",
    "apen_df"
   ]
  },
  {
   "cell_type": "code",
   "execution_count": null,
   "id": "892a6d27-0e2a-445b-a6f4-2536a59dc637",
   "metadata": {},
   "outputs": [],
   "source": [
    "# Calculate APEN Percent Change and Drop NAs\n",
    "apen_df_change = apen_df.pct_change()\n",
    "apen_df_change = apen_df.dropna()\n",
    "apen_df_change.rename(columns = {\"APEN Close\" : \"APEN Percent Change\"}, inplace = True)\n",
    "apen_df_change"
   ]
  },
  {
   "cell_type": "code",
   "execution_count": null,
   "id": "7694462f-7bf3-4362-beba-3c33f0aeeedd",
   "metadata": {},
   "outputs": [],
   "source": [
    "# import STIM csv \n",
    "stim_df = pd.read_csv('./Resources/NFT9816-USD.csv', index_col = \"Date\", parse_dates = True, infer_datetime_format = True)\n",
    "stim_df"
   ]
  },
  {
   "cell_type": "code",
   "execution_count": null,
   "id": "436f7bcf-97b2-4e84-9e1c-d16d2c7432fe",
   "metadata": {},
   "outputs": [],
   "source": [
    "#Clean STIM Data\n",
    "stim_df = stim_df.drop('Open', axis='columns')\n",
    "stim_df = stim_df.drop('High', axis='columns')\n",
    "stim_df = stim_df.drop('Low', axis='columns')\n",
    "stim_df = stim_df.drop('Adj Close', axis='columns')\n",
    "stim_df = stim_df.drop('Volume', axis='columns')\n",
    "stim_df.rename(columns = {\"Close\" : \"STIM Close\"}, inplace = True)\n",
    "stim_df"
   ]
  },
  {
   "cell_type": "code",
   "execution_count": null,
   "id": "a9fa4486-bda2-47f5-aa58-253bf5962bf4",
   "metadata": {},
   "outputs": [],
   "source": [
    "# Calculate STIM Percent Change and Drop NAs\n",
    "stim_df_change = stim_df.pct_change()\n",
    "stim_df_change = stim_df.dropna()\n",
    "stim_df_change.rename(columns = {\"STIM Close\" : \"STIM Percent Change\"}, inplace = True)\n",
    "stim_df_change"
   ]
  },
  {
   "cell_type": "code",
   "execution_count": null,
   "id": "222af34b-0cb5-406e-b25b-463fc5f0d30f",
   "metadata": {},
   "outputs": [],
   "source": [
    "# import TM csv\n",
    "tm_df = pd.read_csv('./Resources/TM.csv', index_col = \"Date\", parse_dates = True, infer_datetime_format = True)\n",
    "tm_df"
   ]
  },
  {
   "cell_type": "code",
   "execution_count": null,
   "id": "50a461d5-443f-49b4-8b5d-f1b3f692717e",
   "metadata": {},
   "outputs": [],
   "source": [
    "#Clean TM Data\n",
    "tm_df = tm_df.drop('Open', axis='columns')\n",
    "tm_df = tm_df.drop('High', axis='columns')\n",
    "tm_df = tm_df.drop('Low', axis='columns')\n",
    "tm_df = tm_df.drop('Adj Close', axis='columns')\n",
    "tm_df = tm_df.drop('Volume', axis='columns')\n",
    "tm_df.rename(columns = {\"Close\" : \"TM Close\"}, inplace = True)\n",
    "tm_df"
   ]
  },
  {
   "cell_type": "code",
   "execution_count": null,
   "id": "781b8521-3319-46fa-afad-34789825ae0b",
   "metadata": {},
   "outputs": [],
   "source": [
    "# Calculate TM Percent Change and Drop NAs\n",
    "tm_df_change = tm_df.pct_change()\n",
    "tm_df_change = tm_df.dropna()\n",
    "tm_df_change.rename(columns = {\"TM Close\" : \"TM Percent Change\"}, inplace = True)\n",
    "tm_df_change"
   ]
  },
  {
   "cell_type": "code",
   "execution_count": null,
   "id": "0aa1e5b9-e4c2-411a-95bc-f69a94e842b6",
   "metadata": {},
   "outputs": [],
   "source": [
    "# import ZYXI csv\n",
    "zyxi_df = pd.read_csv('./Resources/ZYXI.csv', index_col = \"Date\", parse_dates = True, infer_datetime_format = True)\n",
    "zyxi_df"
   ]
  },
  {
   "cell_type": "code",
   "execution_count": null,
   "id": "0127a9db-9419-4c62-a73b-f0fe7189a0b8",
   "metadata": {},
   "outputs": [],
   "source": [
    "#Clean ZYXI Data\n",
    "zyxi_df = zyxi_df.drop('Open', axis='columns')\n",
    "zyxi_df = zyxi_df.drop('High', axis='columns')\n",
    "zyxi_df = zyxi_df.drop('Low', axis='columns')\n",
    "zyxi_df = zyxi_df.drop('Adj Close', axis='columns')\n",
    "zyxi_df = zyxi_df.drop('Volume', axis='columns')\n",
    "zyxi_df.rename(columns = {\"Close\" : \"ZYXI Close\"}, inplace = True)\n",
    "zyxi_df"
   ]
  },
  {
   "cell_type": "code",
   "execution_count": null,
   "id": "6aafd1d1-610b-40b5-8eb9-1173a8b971c5",
   "metadata": {},
   "outputs": [],
   "source": [
    "# Calculate ZYXI Percent Change and Drop NAs\n",
    "zyxi_df_change = zyxi_csv.pct_change()\n",
    "zyxi_df_change = zyxi_csv.dropna()\n",
    "zyxi_df_change.rename(columns = {\"ZYXI Close\" : \"ZYXI Percent Change\"}, inplace = True)\n",
    "zyxi_df_change"
   ]
  },
  {
   "cell_type": "markdown",
   "id": "abb96c5e-d657-4ddf-b3c2-a1d901e2768c",
   "metadata": {},
   "source": [
    "## Daily Close Combined"
   ]
  },
  {
   "cell_type": "code",
   "execution_count": null,
   "id": "63c92608-81ab-4fe7-9cb4-08f19bb1a191",
   "metadata": {},
   "outputs": [],
   "source": [
    "daily_return = pd.concat([CVIG_df_change, CVXR_df_change, gold_df_change, lidr_df_change, apen_df_change, stim_df_change, tm_df_change, zyxi_df_change], axis = 1, join = \"inner\")\n",
    "daily_return"
   ]
  },
  {
   "cell_type": "code",
   "execution_count": null,
   "id": "b10632a7-b7fc-4353-aa19-c57742ddb67b",
   "metadata": {},
   "outputs": [],
   "source": [
    "daily_return.plot(figsize=(15,5), title ='Daily Return of Stocks')"
   ]
  },
  {
   "cell_type": "code",
   "execution_count": null,
   "id": "897a8f34-a6a1-438b-a2be-8f1f886d9fa7",
   "metadata": {},
   "outputs": [],
   "source": [
    "daily_return = daily_close.pct_change()\n",
    "daily_return = daily_return.dropna()\n",
    "daily_return"
   ]
  },
  {
   "cell_type": "code",
   "execution_count": null,
   "id": "b6ea2b6b-05fd-4750-ae79-a309fc1835ad",
   "metadata": {},
   "outputs": [],
   "source": [
    "# import S&P 500\n",
    "sp500_df = pd.read_csv('./Resources/^SPX.csv', index_col = \"Date\", parse_dates = True, infer_datetime_format = True)"
   ]
  },
  {
   "cell_type": "markdown",
   "id": "5ae65367-f689-4960-86e0-3a366b26643c",
   "metadata": {},
   "source": [
    "## Portfolio Optimization: Max Sharpe-Ratio"
   ]
  },
  {
   "cell_type": "code",
   "execution_count": null,
   "id": "bf886368-6903-424d-9f85-c80f16bb201e",
   "metadata": {},
   "outputs": [],
   "source": [
    "## Calculate the weighted returns for the portfolio, to max the Sharpe ratio we're only using Zynex, Apollo Endosurgery, and Gold\n",
    "## This investment decision was determined thanks to a portfolio optimization tool (see ReadMe)"
   ]
  },
  {
   "cell_type": "code",
   "execution_count": null,
   "id": "b67eec73-3e32-4032-8915-e6488f162daf",
   "metadata": {},
   "outputs": [],
   "source": [
    "# Set weights: to optimize the portfolio as to maximize the sharpe ratio we only invest in  Zynex, Apollo Endosurgery, and Gold\n",
    "weights = [0, 0, 0.5489, 0, 0.0219, 0, 0, 0.4291]\n",
    "# Calculate portfolio return\n",
    "portfolio_return = daily_return.dot(weights)\n",
    "# Display sample data\n",
    "portfolio_return"
   ]
  },
  {
   "cell_type": "code",
   "execution_count": null,
   "id": "a06133fc-b9ad-4a5d-8f59-3f8f08848af2",
   "metadata": {},
   "outputs": [],
   "source": [
    "# Calculate Annualized Sharpe Ratios"
   ]
  },
  {
   "cell_type": "code",
   "execution_count": null,
   "id": "41db7fe1-f5d8-4bfa-9f55-9b56773a49c9",
   "metadata": {},
   "outputs": [],
   "source": [
    "# sharpe ratios calculated without risk-free data\n",
    "sharpe_ratio = (portfolio_return.mean() * 252) / (portfolio_return.std() * np.sqrt(252))\n",
    "sharpe_ratio"
   ]
  },
  {
   "cell_type": "code",
   "execution_count": null,
   "id": "f668a918-8b12-4132-82d1-53310257ede6",
   "metadata": {},
   "outputs": [],
   "source": [
    "# A Sharpe ratio of 1.02 indicates that the investment is generating 1.02 units of excess return for each unit of risk taken, relative to the risk-free rate.\n",
    "\n",
    "# Calculate cumulative returns of the portfolio over the past 7 months\n",
    "cummulative_portfolio_return = (1 + portfolio_return).cumprod()-1\n",
    "cummulative_portfolio_return"
   ]
  }
 ],
 "metadata": {
  "kernelspec": {
   "display_name": "Python 3 (ipykernel)",
   "language": "python",
   "name": "python3"
  },
  "language_info": {
   "codemirror_mode": {
    "name": "ipython",
    "version": 3
   },
   "file_extension": ".py",
   "mimetype": "text/x-python",
   "name": "python",
   "nbconvert_exporter": "python",
   "pygments_lexer": "ipython3",
   "version": "3.10.9"
  }
 },
 "nbformat": 4,
 "nbformat_minor": 5
}
